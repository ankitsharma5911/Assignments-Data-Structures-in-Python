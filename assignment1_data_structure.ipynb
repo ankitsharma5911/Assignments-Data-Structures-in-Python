{
 "cells": [
  {
   "cell_type": "markdown",
   "metadata": {
    "id": "G7VZxQU0BkHr"
   },
   "source": [
    "1. Write a code to reverse a string"
   ]
  },
  {
   "cell_type": "code",
   "execution_count": 2,
   "metadata": {
    "colab": {
     "base_uri": "https://localhost:8080/"
    },
    "executionInfo": {
     "elapsed": 7,
     "status": "ok",
     "timestamp": 1712319819484,
     "user": {
      "displayName": "ankit sharma",
      "userId": "13032503048540457515"
     },
     "user_tz": -330
    },
    "id": "YrArL9BJNhPB",
    "outputId": "5ddcb55b-ffbe-4562-ad18-085190f44bd8"
   },
   "outputs": [
    {
     "data": {
      "text/plain": [
       "['age', 'name', 3, 2, 1]"
      ]
     },
     "execution_count": 2,
     "metadata": {},
     "output_type": "execute_result"
    }
   ],
   "source": [
    "s = [1,2,3,\"name\",\"age\"]\n",
    "s[::-1]  #Here -1 return reverse list"
   ]
  },
  {
   "cell_type": "markdown",
   "metadata": {
    "id": "pY4gOLgaBbIt"
   },
   "source": [
    "2. Write a code to count the number of vowels in a string"
   ]
  },
  {
   "cell_type": "code",
   "execution_count": 3,
   "metadata": {
    "colab": {
     "base_uri": "https://localhost:8080/"
    },
    "executionInfo": {
     "elapsed": 6,
     "status": "ok",
     "timestamp": 1712320262174,
     "user": {
      "displayName": "ankit sharma",
      "userId": "13032503048540457515"
     },
     "user_tz": -330
    },
    "id": "v7zYUREYOR8G",
    "outputId": "48373035-b67d-42b7-f8c1-d0fce0fe457b"
   },
   "outputs": [
    {
     "name": "stdout",
     "output_type": "stream",
     "text": [
      "5\n"
     ]
    }
   ],
   "source": [
    "s = ['a','b','c', 'd','e','i','i','O','g']\n",
    "count = 0\n",
    "for a in s:\n",
    "  if a in ['a','e','i','o','u','A','E','I','O','U']:\n",
    "    count +=1\n",
    "print (count)"
   ]
  },
  {
   "cell_type": "markdown",
   "metadata": {
    "id": "MNfmSI_rBWlu"
   },
   "source": [
    "3. Write a code to check if a given string is a palindrome or not"
   ]
  },
  {
   "cell_type": "code",
   "execution_count": 4,
   "metadata": {
    "colab": {
     "base_uri": "https://localhost:8080/"
    },
    "executionInfo": {
     "elapsed": 596,
     "status": "ok",
     "timestamp": 1712320635722,
     "user": {
      "displayName": "ankit sharma",
      "userId": "13032503048540457515"
     },
     "user_tz": -330
    },
    "id": "OcWZ2yunP9Hf",
    "outputId": "79940868-f482-4a4d-8688-61a9a5d36433"
   },
   "outputs": [
    {
     "name": "stdout",
     "output_type": "stream",
     "text": [
      "string 'abcbas' is not palindrome\n"
     ]
    }
   ],
   "source": [
    "s = \"abcbas\"\n",
    "if  s[:] == s[::-1] :\n",
    "  print(f\"string '{s}' is palindrome\")\n",
    "else:\n",
    "  print(f\"string '{s}' is not palindrome\")\n"
   ]
  },
  {
   "cell_type": "markdown",
   "metadata": {
    "id": "jnFXibQEBEgu"
   },
   "source": [
    "4. Write a code to check if two given strings are anagrams of each other"
   ]
  },
  {
   "cell_type": "code",
   "execution_count": 5,
   "metadata": {
    "colab": {
     "base_uri": "https://localhost:8080/"
    },
    "executionInfo": {
     "elapsed": 9011,
     "status": "ok",
     "timestamp": 1712327035294,
     "user": {
      "displayName": "ankit sharma",
      "userId": "13032503048540457515"
     },
     "user_tz": -330
    },
    "id": "he4ZtUOOWbkq",
    "outputId": "37bd4106-6f23-4849-d560-1fbee4db76d2"
   },
   "outputs": [
    {
     "name": "stdout",
     "output_type": "stream",
     "text": [
      "'asdf' and string 'fdsa' are  anagrams\n"
     ]
    }
   ],
   "source": [
    "string1 = input(\"enter first string: \")\n",
    "string2 = input (\"enter second string: \")\n",
    "if len(string1) == len(string2):\n",
    "  indicator = 0\n",
    "  for i in string1:\n",
    "    if  i in string2 == False:\n",
    "     indicator = 0\n",
    "    else:\n",
    "     indicator = 1\n",
    "\n",
    "  if indicator == 1:\n",
    "    print (f\"'{string1}' and string '{string2}' are  anagrams\")\n",
    "  else:\n",
    "     print (\"string are not anagrams\")\n",
    "else:\n",
    "  print (\"string are not anagrams\")\n"
   ]
  },
  {
   "cell_type": "markdown",
   "metadata": {
    "id": "Fwj7pyFUATUq"
   },
   "source": [
    "5. Write a code to find all occurrences of a given substring within another string"
   ]
  },
  {
   "cell_type": "code",
   "execution_count": 6,
   "metadata": {
    "colab": {
     "base_uri": "https://localhost:8080/"
    },
    "executionInfo": {
     "elapsed": 1191,
     "status": "ok",
     "timestamp": 1712330418284,
     "user": {
      "displayName": "ankit sharma",
      "userId": "13032503048540457515"
     },
     "user_tz": -330
    },
    "id": "oi_THY2lr6Lb",
    "outputId": "f07e2fb3-f2a4-4bbd-a754-c1ac612476e6"
   },
   "outputs": [
    {
     "name": "stdout",
     "output_type": "stream",
     "text": [
      "[1, 18, 37, 39, 41, 43]\n"
     ]
    }
   ],
   "source": [
    "string = \" i am a good boy. i am a god student i i i i.\"\n",
    "substring = \"i\"\n",
    "occurrences = []\n",
    "start_index = 0\n",
    "\n",
    "while True:\n",
    "    index = string.find(substring, start_index)\n",
    "    if index == -1:\n",
    "      break\n",
    "    occurrences.append(index)\n",
    "    start_index = index + 1\n",
    "print(occurrences)"
   ]
  },
  {
   "cell_type": "markdown",
   "metadata": {
    "id": "EDgQSxy8AHYO"
   },
   "source": [
    "6. Write a code to perform basic string compression using the counts of repeated characters"
   ]
  },
  {
   "cell_type": "code",
   "execution_count": 7,
   "metadata": {
    "colab": {
     "base_uri": "https://localhost:8080/"
    },
    "executionInfo": {
     "elapsed": 609,
     "status": "ok",
     "timestamp": 1712371299459,
     "user": {
      "displayName": "ankit sharma",
      "userId": "13032503048540457515"
     },
     "user_tz": -330
    },
    "id": "AqVzq1fF1Yci",
    "outputId": "78fd99eb-f7f8-4480-83fb-44b39e37c9b9"
   },
   "outputs": [
    {
     "name": "stdout",
     "output_type": "stream",
     "text": [
      "The original string is : aaabbccccccaaa\n",
      "The compressed string is : a3b2c6a3\n",
      "The original string is : abcabc\n",
      "The compressed string is : a1b1c1a1b1c1\n"
     ]
    }
   ],
   "source": [
    "def compress(s):\n",
    "    compressed_string = \"\"\n",
    "    count_consecutive = 0\n",
    "\n",
    "    for i in range(len(s)):\n",
    "        count_consecutive += 1\n",
    "\n",
    "        # If the current character is different from the next character\n",
    "        # or if it's the last character in the string\n",
    "        if (i + 1 >= len(s) or s[i] != s[i + 1]):\n",
    "            compressed_string += s[i] + str(count_consecutive)\n",
    "            count_consecutive = 0\n",
    "\n",
    "    return compressed_string\n",
    "\n",
    "\n",
    "if __name__ == \"__main__\":\n",
    "    s = \"aaabbccccccaaa\"\n",
    "    print(\"The original string is : \" + str(s))\n",
    "    print(\"The compressed string is : \" + str(compress(s)))\n",
    "    str2 = \"abcabc\"\n",
    "    print(\"The original string is : \" + str(str2))\n",
    "    print(\"The compressed string is : \" + str(compress(str2)))"
   ]
  },
  {
   "cell_type": "markdown",
   "metadata": {
    "id": "CU5htb_uHQG2"
   },
   "source": [
    "7.  Write a code to determine if a string has all unique characters"
   ]
  },
  {
   "cell_type": "code",
   "execution_count": 8,
   "metadata": {
    "id": "kbnyaKjfaTgr"
   },
   "outputs": [
    {
     "name": "stdout",
     "output_type": "stream",
     "text": [
      "string \"abcde\" has unique characters\n"
     ]
    }
   ],
   "source": [
    "string = \"abcde\"\n",
    "char_set = set(string)\n",
    "if len(char_set) == len(string):\n",
    "  print(f\"string \\\"{string}\\\" has unique characters\")\n",
    "else:\n",
    "  print(f\"string \\\"{string}\\\" has No unique characters\")"
   ]
  },
  {
   "cell_type": "markdown",
   "metadata": {},
   "source": [
    "8. Write a code to convert a given string to uppercase or lowercase"
   ]
  },
  {
   "cell_type": "code",
   "execution_count": 9,
   "metadata": {},
   "outputs": [
    {
     "data": {
      "text/plain": [
       "'ajay'"
      ]
     },
     "execution_count": 9,
     "metadata": {},
     "output_type": "execute_result"
    }
   ],
   "source": [
    "str = \"Ajay\"\n",
    "str.upper()   #for uper case \n",
    "str.lower()   #for lower case"
   ]
  },
  {
   "cell_type": "markdown",
   "metadata": {},
   "source": [
    "9. Write a code to count the number of words in a string"
   ]
  },
  {
   "cell_type": "code",
   "execution_count": 10,
   "metadata": {},
   "outputs": [
    {
     "name": "stdout",
     "output_type": "stream",
     "text": [
      "string has 5 words\n"
     ]
    }
   ],
   "source": [
    "string1 = \"This is a sample string.\"\n",
    "\n",
    "words = string1.split()            #split the string by space delemeter into words\n",
    "\n",
    "print(f\"string has {len(words)} words\")    "
   ]
  },
  {
   "cell_type": "markdown",
   "metadata": {},
   "source": [
    " 10. Write a code to concatenate two strings without using the + operator"
   ]
  },
  {
   "cell_type": "code",
   "execution_count": 11,
   "metadata": {},
   "outputs": [
    {
     "name": "stdout",
     "output_type": "stream",
     "text": [
      "Hello I'am a Data Scientist.\n"
     ]
    }
   ],
   "source": [
    "str1 = \"Hello\"\n",
    "str2 = \"I'am a Data Scientist.\"\n",
    "string = \"\"\n",
    "string = string.join([str1,\" \",str2])\n",
    "print (string)"
   ]
  },
  {
   "cell_type": "markdown",
   "metadata": {},
   "source": [
    "11. Write a code to remove all occurrences of a specific element from a list"
   ]
  },
  {
   "cell_type": "code",
   "execution_count": 12,
   "metadata": {},
   "outputs": [
    {
     "name": "stdout",
     "output_type": "stream",
     "text": [
      "[1, 2, 3, 4, 6, 7, 8, 9, 4, 6, 1, 2, 3]\n"
     ]
    }
   ],
   "source": [
    "list = [1,2,3,4,5,6,7,8,9,5,4,5,6,1,2,3]\n",
    "sp_element = 5\n",
    "while sp_element in list:\n",
    "    list.remove(sp_element)\n",
    "print(list)"
   ]
  },
  {
   "cell_type": "markdown",
   "metadata": {},
   "source": [
    "12. Implement a code to find the second largest number in a given list of integers"
   ]
  },
  {
   "cell_type": "code",
   "execution_count": 13,
   "metadata": {},
   "outputs": [
    {
     "name": "stdout",
     "output_type": "stream",
     "text": [
      "95\n",
      "74\n"
     ]
    }
   ],
   "source": [
    "nums  = [1,2,3,4,5,6,7,8,9,74,56,45,15,35,95,41,25,55]\n",
    "largest = 0\n",
    "second_largest = 0\n",
    "for num in nums:\n",
    "    if num > largest:\n",
    "      second_largest = largest\n",
    "      largest = num\n",
    "    elif num > second_largest:\n",
    "      second_largest = num\n",
    "print(largest)\n",
    "print(second_largest)"
   ]
  },
  {
   "cell_type": "markdown",
   "metadata": {},
   "source": [
    "13. Create a code to count the occurrences of each element in a list and return a dictionary with elements as keys and their counts as values"
   ]
  },
  {
   "cell_type": "code",
   "execution_count": 14,
   "metadata": {},
   "outputs": [
    {
     "data": {
      "text/plain": [
       "{1: 2, 2: 2, 3: 2, 4: 1, 5: 1}"
      ]
     },
     "execution_count": 14,
     "metadata": {},
     "output_type": "execute_result"
    }
   ],
   "source": [
    "list1 = [1, 2, 3, 4, 5, 1, 2, 3]\n",
    "\n",
    "counts = {}\n",
    "\n",
    "    # Iterate over the list and count the occurrences of each element.\n",
    "for element in list1:\n",
    "    if element not in counts:\n",
    "        counts[element] = 0\n",
    "    counts[element] += 1\n",
    "counts"
   ]
  },
  {
   "cell_type": "markdown",
   "metadata": {},
   "source": [
    "14. Write a code to reverse a list in-place without using any built-in reverse functions"
   ]
  },
  {
   "cell_type": "code",
   "execution_count": 15,
   "metadata": {},
   "outputs": [
    {
     "name": "stdout",
     "output_type": "stream",
     "text": [
      "[3, 2, 1, 5, 4, 3, 2, 1]\n"
     ]
    }
   ],
   "source": [
    "list1 = [1, 2, 3, 4, 5, 1, 2, 3]\n",
    "n = len(list1)\n",
    "for i in range(n // 2):\n",
    "        # Swap the elements at indices i and n - i - 1.\n",
    "        list1[i], list1[n - i - 1] = list1[n - i - 1], list1[i]\n",
    "print(list1)"
   ]
  },
  {
   "cell_type": "markdown",
   "metadata": {},
   "source": [
    "15.Implement a code to find and remove duplicates from a list while preserving the original order of elements"
   ]
  },
  {
   "cell_type": "code",
   "execution_count": 16,
   "metadata": {},
   "outputs": [
    {
     "data": {
      "text/plain": [
       "[1, 2, 3, 4, 5]"
      ]
     },
     "execution_count": 16,
     "metadata": {},
     "output_type": "execute_result"
    }
   ],
   "source": [
    "list = [1, 2, 3, 4, 5, 1, 2, 3]\n",
    "unique_list = []\n",
    "for i in list :\n",
    "    if i not in unique_list:\n",
    "        unique_list.append(i)  \n",
    "unique_list"
   ]
  },
  {
   "cell_type": "markdown",
   "metadata": {},
   "source": [
    "16. Create a code to check if a given list is sorted (either in ascending or descending order) or not"
   ]
  },
  {
   "cell_type": "code",
   "execution_count": 17,
   "metadata": {},
   "outputs": [
    {
     "name": "stdout",
     "output_type": "stream",
     "text": [
      "list is not sorted\n"
     ]
    }
   ],
   "source": [
    "list1 = [1, 2, 3, 4, 5,3] \n",
    "flag = 0\n",
    " # Check if the list is empty or has only one element.\n",
    "if len(list1) <= 1:\n",
    "    flag = 1\n",
    "    \n",
    "\n",
    "  # Check if the list is sorted in ascending order.\n",
    "for i in range(1, len(list1)):\n",
    "    if list1[i] < list1[i - 1]:\n",
    "      break\n",
    "else:\n",
    "    flag = 1\n",
    "\n",
    "  # Check if the list is sorted in descending order.\n",
    "for i in range(1, len(list1)):\n",
    "    if list1[i] > list1[i - 1]:\n",
    "      break\n",
    "else:\n",
    "    flag = 1\n",
    "\n",
    "if flag == 1:\n",
    "    print(\"list is shorted\")\n",
    "else:\n",
    "    print(\"list is not sorted\")\n",
    "        \n",
    "    "
   ]
  },
  {
   "cell_type": "markdown",
   "metadata": {},
   "source": [
    "17. Write a code to merge two sorted lists into a single sorted list"
   ]
  },
  {
   "cell_type": "code",
   "execution_count": 18,
   "metadata": {},
   "outputs": [
    {
     "data": {
      "text/plain": [
       "[1, 2, 3, 6, 5, 4, 3, 2, 1, 6]"
      ]
     },
     "execution_count": 18,
     "metadata": {},
     "output_type": "execute_result"
    }
   ],
   "source": [
    "list1 = [1,2,3,6]\n",
    "list2 = [6,5,4,3,2,1]\n",
    "list3 = list1 + list2\n",
    "list = set(list3)\n",
    "list = [i for i in list]\n",
    "list\n",
    "\n",
    "# or\n",
    "merged_list = []\n",
    "\n",
    "  # Create two pointers to track the current position in each list.\n",
    "i = 0\n",
    "j = 0\n",
    " \n",
    "while i < len(list1) and j < len(list2):\n",
    "    if list1[i] < list2[j]:\n",
    "      merged_list.append(list1[i])\n",
    "      i += 1\n",
    "    else:\n",
    "      merged_list.append(list2[j])\n",
    "      j += 1\n",
    "\n",
    "  # Add any remaining elements from either list to the merged list.\n",
    "merged_list.extend(list1[i:])\n",
    "merged_list.extend(list2[j:])\n",
    "\n",
    "merged_list"
   ]
  },
  {
   "cell_type": "markdown",
   "metadata": {},
   "source": [
    "18. Implement a code to find the intersection of two given lists"
   ]
  },
  {
   "cell_type": "code",
   "execution_count": 19,
   "metadata": {},
   "outputs": [
    {
     "data": {
      "text/plain": [
       "['c', 'd']"
      ]
     },
     "execution_count": 19,
     "metadata": {},
     "output_type": "execute_result"
    }
   ],
   "source": [
    "list1 = ['a','b','c','d']\n",
    "list2 = ['c','d','e','f']\n",
    "list = []\n",
    "for a in list1:\n",
    "    if a in list2:\n",
    "        list.append(a)\n",
    "list        "
   ]
  },
  {
   "cell_type": "markdown",
   "metadata": {},
   "source": [
    "19. Create a code to find the union of two lists without duplicates"
   ]
  },
  {
   "cell_type": "code",
   "execution_count": 20,
   "metadata": {},
   "outputs": [
    {
     "data": {
      "text/plain": [
       "['a', 'b', 'c', 'd', 'e', 'f']"
      ]
     },
     "execution_count": 20,
     "metadata": {},
     "output_type": "execute_result"
    }
   ],
   "source": [
    "list1 = ['a','b','c','d']\n",
    "list2 = ['c','d','e','f']\n",
    "unian = list1 + list2\n",
    "unian = set(unian)\n",
    "unian = [i for i in unian]\n",
    "unian.sort()\n",
    "unian"
   ]
  },
  {
   "cell_type": "markdown",
   "metadata": {},
   "source": [
    "20. Write a code to shuffle a given list randomly without using any built-in shuffle functions"
   ]
  },
  {
   "cell_type": "code",
   "execution_count": 21,
   "metadata": {},
   "outputs": [
    {
     "name": "stdout",
     "output_type": "stream",
     "text": [
      "['f', 'c', 'e', 'b', 'a', 'd']\n"
     ]
    }
   ],
   "source": [
    "import random\n",
    "nums = ['a', 'b', 'c', 'd', 'e', 'f']\n",
    "for i in range(len(nums)):\n",
    "    # Generate a random index between i and the end of the list.\n",
    "    j = random.randint(i, len(nums) - 1)\n",
    "\n",
    "    # Swap the elements at indices i and j.\n",
    "    nums[i], nums[j] = nums[j], nums[i]\n",
    "    \n",
    "print(nums)"
   ]
  },
  {
   "cell_type": "markdown",
   "metadata": {},
   "source": [
    "21. Write a code that takes two tuples as input and returns a new tuple containing elements that are common to both input tuples"
   ]
  },
  {
   "cell_type": "code",
   "execution_count": 22,
   "metadata": {},
   "outputs": [
    {
     "data": {
      "text/plain": [
       "(3, 4, 5)"
      ]
     },
     "execution_count": 22,
     "metadata": {},
     "output_type": "execute_result"
    }
   ],
   "source": [
    "\n",
    "tuple1 = (1, 2, 3, 4, 5)\n",
    "tuple2 = (3, 4, 5, 6, 7)\n",
    "set1 = set(tuple1)\n",
    "set2 = set(tuple2)\n",
    "common_element = set1.intersection(set2)\n",
    "common_element = tuple(common_element)\n",
    "common_element"
   ]
  },
  {
   "cell_type": "markdown",
   "metadata": {},
   "source": [
    "22. Create a code that prompts the user to enter two sets of integers separated by commas. Then, print the intersection of these two sets"
   ]
  },
  {
   "cell_type": "code",
   "execution_count": 23,
   "metadata": {},
   "outputs": [
    {
     "name": "stdout",
     "output_type": "stream",
     "text": [
      "The intersection of the two sets is: {2, 3}\n"
     ]
    }
   ],
   "source": [
    "# Get the two sets of integers from the user.\n",
    "set1 = set(map(int, input(\"Enter the first set of integers, separated by commas: \").split(\",\")))\n",
    "set2 = set(map(int, input(\"Enter the second set of integers, separated by commas: \").split(\",\")))\n",
    "\n",
    "# Print the intersection.\n",
    "print(\"The intersection of the two sets is:\", intersection = set1.intersection(set2))\n"
   ]
  },
  {
   "cell_type": "markdown",
   "metadata": {},
   "source": [
    "23. Write a code to concatenate two tuples. The function should take two tuples as input and return a new tuple containing elements from both input tuples."
   ]
  },
  {
   "cell_type": "code",
   "execution_count": 29,
   "metadata": {},
   "outputs": [
    {
     "name": "stdout",
     "output_type": "stream",
     "text": [
      "(1, 2, 3, 4, 5, 4, 5, 6, 7, 7)\n"
     ]
    }
   ],
   "source": [
    "def concate_tuple(t1 , t2 ):\n",
    "    return t1 + t2\n",
    "\n",
    "if __name__ ==\"__main__\":\n",
    "    t1 = (1,2,3,4,5)\n",
    "    t2 = (4,5,6,7,7)\n",
    "    tuple = concate_tuple(t1 , t2)\n",
    "    print(tuple)\n",
    "    "
   ]
  },
  {
   "cell_type": "markdown",
   "metadata": {},
   "source": [
    "24. Develop a code that prompts the user to input two sets of strings. Then, print the elements that are present in the first set but not in the second set"
   ]
  },
  {
   "cell_type": "code",
   "execution_count": 31,
   "metadata": {},
   "outputs": [
    {
     "name": "stdout",
     "output_type": "stream",
     "text": [
      "1\n",
      "2\n",
      "3\n"
     ]
    }
   ],
   "source": [
    "set1 = set(map(int, input(\"Enter the first set of integers, separated by commas: \").split(\",\")))\n",
    "set2 = set(map(int, input(\"Enter the second set of integers, separated by commas: \").split(\",\")))\n",
    "\n",
    "difference = set1 - set2\n",
    "for num in difference :\n",
    "    print(num)\n",
    "    "
   ]
  },
  {
   "cell_type": "markdown",
   "metadata": {},
   "source": [
    "25. Create a code that takes a tuple and two integers as input. The function should return a new tuple containing elements from the original tuple within the specified range of indices"
   ]
  },
  {
   "cell_type": "code",
   "execution_count": 35,
   "metadata": {},
   "outputs": [
    {
     "name": "stdout",
     "output_type": "stream",
     "text": [
      "(3, 4, 5)\n"
     ]
    }
   ],
   "source": [
    "def function(t1 , a , b):\n",
    "    return t1[a:b]  \n",
    "\n",
    "\n",
    "if __name__ == \"__main__\":\n",
    "    tuple = (1,2,3,4,5,6,4,5,6)\n",
    "    a = int(input(\"Enter first range for slice list: \"))\n",
    "    b = int(input ('Enter second range for slice list: '))\n",
    "    new_tuple = function(tuple , a, b)\n",
    "    print(new_tuple)\n",
    "    "
   ]
  },
  {
   "cell_type": "markdown",
   "metadata": {},
   "source": [
    "26.  Write a code that prompts the user to input two sets of characters. Then, print the union of these two sets"
   ]
  },
  {
   "cell_type": "code",
   "execution_count": 40,
   "metadata": {},
   "outputs": [
    {
     "data": {
      "text/plain": [
       "{',', 'a', 'd', 'f', 'g', 'h', 'j', 'k', 's'}"
      ]
     },
     "execution_count": 40,
     "metadata": {},
     "output_type": "execute_result"
    }
   ],
   "source": [
    "set1 = set(input(\"Enter the first set of characters: \"))\n",
    "set2 = set(input(\"Enter the second set of characters: \"))\n",
    "\n",
    "unian_set = set()\n",
    "for i in set1:\n",
    "    unian_set.add(i)\n",
    "for i in set2:\n",
    "    unian_set.add(i)\n",
    "\n",
    "unian_set"
   ]
  },
  {
   "cell_type": "markdown",
   "metadata": {},
   "source": [
    "27.  Develop a code that takes a tuple of integers as input. The function should return the maximum and minimum values from the tuple using tuple unpacking"
   ]
  },
  {
   "cell_type": "code",
   "execution_count": 44,
   "metadata": {},
   "outputs": [
    {
     "name": "stdout",
     "output_type": "stream",
     "text": [
      "max = 89 , min = 47 \n"
     ]
    }
   ],
   "source": [
    "def max_min_fxn(list):\n",
    "    if list[0] >= list[1]:\n",
    "      (max , min) = list\n",
    "    else:\n",
    "       (min , max)=list\n",
    "    return max, min\n",
    "\n",
    "if __name__==\"__main__\":\n",
    "   \n",
    "    num1 = (input(\"Enter max value: \"))\n",
    "    num2 = (input(\"Enter value smaller then max: \"))\n",
    "    list = (num1, num2)\n",
    "    max , min = max_min_fxn(list)\n",
    "    print (f\"max = {max} , min = {min} \")  \n",
    "\n"
   ]
  },
  {
   "cell_type": "markdown",
   "metadata": {},
   "source": [
    "28. Create a code that defines two sets of integers. Then, print the union, intersection, and difference of these two sets"
   ]
  },
  {
   "cell_type": "code",
   "execution_count": 45,
   "metadata": {},
   "outputs": [
    {
     "name": "stdout",
     "output_type": "stream",
     "text": [
      "union of sets are {1, 2, 3, 4, 5, 6, 7, 8, 9}\n",
      "intersection of sets are {4, 5, 6, 7, 8, 9}\n",
      "the difference of sets are {1}\n"
     ]
    }
   ],
   "source": [
    "set1 = {1,4,9,8,7,5,6,1} \n",
    "set2 = {8,6,9,7,4,2,3,6,5}\n",
    "\n",
    "print(f\"union of sets are {set1.union(set2)}\")\n",
    "print(f\"intersection of sets are {set1.intersection(set2)}\")\n",
    "print(f\"the difference of sets are {set1 - set2}\")\n"
   ]
  },
  {
   "cell_type": "markdown",
   "metadata": {},
   "source": [
    "29.  Write a code that takes a tuple and an element as input. The function should return the count of occurrences of the given element in the tuple"
   ]
  },
  {
   "cell_type": "code",
   "execution_count": 48,
   "metadata": {},
   "outputs": [
    {
     "name": "stdout",
     "output_type": "stream",
     "text": [
      "count of occurrence of 5 is 4 \n"
     ]
    }
   ],
   "source": [
    "def count_fxn(tuple , num):\n",
    "    return tuple.count(num)\n",
    "\n",
    "if __name__==\"__main__\":\n",
    "    tuple = (4,5,6,1,2,3,5,5,5,)\n",
    "    num = 5\n",
    "    print(f\"count of occurrence of {num} is {count_fxn(tuple , num)} \")\n",
    "    "
   ]
  },
  {
   "cell_type": "markdown",
   "metadata": {},
   "source": [
    "30. Develop a code that prompts the user to input two sets of strings. Then, print the symmetric difference of these two sets"
   ]
  },
  {
   "cell_type": "code",
   "execution_count": 49,
   "metadata": {},
   "outputs": [
    {
     "name": "stdout",
     "output_type": "stream",
     "text": [
      "The symmetric difference of the two sets is:\n",
      "{'9', '8', '7'}\n"
     ]
    }
   ],
   "source": [
    "set1 = set(input(\"Enter the first set of strings, separated by commas: \").split(\",\"))\n",
    "set2 = set(input(\"Enter the second set of strings, separated by commas: \").split(\",\"))\n",
    "\n",
    "symmetric_difference = set1.symmetric_difference(set2)\n",
    "\n",
    "print(\"The symmetric difference of the two sets is:\")\n",
    "print(symmetric_difference)"
   ]
  },
  {
   "cell_type": "markdown",
   "metadata": {},
   "source": [
    "31. Write a code that takes a list of words as input and returns a dictionary where the keys are unique words and the values are the frequencies of those words in the input list"
   ]
  },
  {
   "cell_type": "code",
   "execution_count": 55,
   "metadata": {},
   "outputs": [
    {
     "data": {
      "text/plain": [
       "{'banana': 1, 'orange': 1, 'apple': 2, 'pineapple': 1, 'guava': 1}"
      ]
     },
     "execution_count": 55,
     "metadata": {},
     "output_type": "execute_result"
    }
   ],
   "source": [
    "list  = ['apple' , 'banana', 'pineapple' , 'guava', 'apple' , 'orange']\n",
    "sets = set(list)\n",
    "fruit = {}\n",
    "for fruits in sets:\n",
    "    fruit[fruits] = list.count(fruits)\n",
    "\n",
    "fruit"
   ]
  },
  {
   "cell_type": "markdown",
   "metadata": {},
   "source": [
    "32. Write a code that takes two dictionaries as input and merges them into a single dictionary. If there are common keys, the values should be added together"
   ]
  },
  {
   "cell_type": "code",
   "execution_count": 57,
   "metadata": {},
   "outputs": [
    {
     "data": {
      "text/plain": [
       "{'banana': 1,\n",
       " 'orange': 1,\n",
       " 'apple': 4,\n",
       " 'pineapple': 2,\n",
       " 'guava': 2,\n",
       " 'kivi': 5,\n",
       " 'strawberry': 12}"
      ]
     },
     "execution_count": 57,
     "metadata": {},
     "output_type": "execute_result"
    }
   ],
   "source": [
    "dict1= {'banana': 1, 'orange': 1, 'apple': 2, 'pineapple': 1, 'guava': 1}\n",
    "dict2 = { 'apple': 2, 'pineapple': 1, 'guava': 1, 'kivi' : 5 , 'strawberry': 12}\n",
    "\n",
    "merged_dict = {}\n",
    "\n",
    "for key in dict1:\n",
    "    if key not in dict2:\n",
    "      merged_dict[key] = dict1[key]\n",
    "    else:\n",
    "      merged_dict[key] = dict1[key] + dict2[key]\n",
    "\n",
    "for key in dict2:\n",
    "    if key not in dict1:\n",
    "      merged_dict[key] = dict2[key]\n",
    "\n",
    "merged_dict"
   ]
  },
  {
   "cell_type": "markdown",
   "metadata": {},
   "source": [
    "33. Write a code to access a value in a nested dictionary. The function should take the dictionary and a list of keys as input, and return the corresponding value. If any of the keys do not exist in the dictionary, the function should return None"
   ]
  },
  {
   "cell_type": "code",
   "execution_count": 62,
   "metadata": {},
   "outputs": [
    {
     "name": "stdout",
     "output_type": "stream",
     "text": [
      "None\n"
     ]
    }
   ],
   "source": [
    "def get_nested_value(dicts , values):\n",
    "    for value in values:\n",
    "        if value not in dicts:\n",
    "            return None\n",
    "        \n",
    "        ret_dict= dicts[value]\n",
    "    return ret_dict\n",
    "if __name__==\"__main__\":\n",
    "\n",
    "    dicts = {'fruits': {'mango':{'colour':'yellow'} } , 'vegitable' : {'potato':{'colour':'brown'}}  }\n",
    "    values = ['mango' , 'yellow' , 'brown']\n",
    "    ret = get_nested_value(dicts,values)\n",
    "    print(ret)    "
   ]
  },
  {
   "cell_type": "markdown",
   "metadata": {},
   "source": [
    "34. Write a code that takes a dictionary as input and returns a sorted version of it based on the values. You can choose whether to sort in ascending or descending order"
   ]
  },
  {
   "cell_type": "code",
   "execution_count": 1,
   "metadata": {},
   "outputs": [
    {
     "name": "stdout",
     "output_type": "stream",
     "text": [
      "[('a', 1), ('b', 2), ('c', 3), ('d', 4), ('e', 5)]\n",
      "[('e', 5), ('d', 4), ('c', 3), ('b', 2), ('a', 1)]\n"
     ]
    }
   ],
   "source": [
    "\n",
    "def sort_dict_by_value(dict, order='ascending'):\n",
    "\n",
    "    # Convert the dictionary to a list of tuples.\n",
    "    items = list(dict.items())\n",
    "\n",
    "    # Sort the list of tuples by the second element (the value).\n",
    "    if order == 'ascending':\n",
    "        items.sort(key=lambda x: x[1])\n",
    "    else:\n",
    "        items.sort(key=lambda x: x[1], reverse=True)\n",
    "\n",
    "    # Return the sorted list of tuples.\n",
    "    return items\n",
    "\n",
    "\n",
    "if __name__ == \"__main__\":\n",
    "    dict1 = {'a': 1, 'b': 2, 'c': 3, 'd': 4, 'e': 5}\n",
    "    print(sort_dict_by_value(dict1))  \n",
    "\n",
    "    print(sort_dict_by_value(dict1, order='descending'))  \n"
   ]
  },
  {
   "cell_type": "markdown",
   "metadata": {},
   "source": [
    "35.  Write a code that inverts a dictionary, swapping keys and values. Ensure that the inverted dictionary correctly handles cases where multiple keys have the same value by storing the keys as a list in the inverted dictionary."
   ]
  },
  {
   "cell_type": "code",
   "execution_count": 2,
   "metadata": {},
   "outputs": [
    {
     "name": "stdout",
     "output_type": "stream",
     "text": [
      "{1: ['a', 'c'], 2: ['b', 'd']}\n",
      "{1: ['a'], 2: ['b'], 3: ['c'], 4: ['d']}\n"
     ]
    }
   ],
   "source": [
    "\n",
    "def invert_dict(input_dict):\n",
    "\n",
    "\n",
    "    # Create an empty dictionary to store the inverted dictionary.\n",
    "    inverted_dict = {}\n",
    "\n",
    "    # Iterate over the key-value pairs in the input dictionary.\n",
    "    for key, value in input_dict.items():\n",
    "        # If the value is not already a key in the inverted dictionary,\n",
    "        # add it as a key with an empty list as its value.\n",
    "        if value not in inverted_dict:\n",
    "            inverted_dict[value] = []\n",
    "\n",
    "        # Append the key to the list of keys associated with the value.\n",
    "        inverted_dict[value].append(key)\n",
    "\n",
    "    # Return the inverted dictionary.\n",
    "    return inverted_dict\n",
    "\n",
    "\n",
    "if __name__ == \"__main__\":\n",
    "    input_dict = {'a': 1, 'b': 2, 'c': 1, 'd': 2}\n",
    "    print(invert_dict(input_dict)) \n",
    "\n",
    "    input_dict = {'a': 1, 'b': 2, 'c': 3, 'd': 4}\n",
    "    print(invert_dict(input_dict)) \n"
   ]
  }
 ],
 "metadata": {
  "colab": {
   "provenance": []
  },
  "kernelspec": {
   "display_name": "Python 3 (ipykernel)",
   "language": "python",
   "name": "python3"
  },
  "language_info": {
   "codemirror_mode": {
    "name": "ipython",
    "version": 3
   },
   "file_extension": ".py",
   "mimetype": "text/x-python",
   "name": "python",
   "nbconvert_exporter": "python",
   "pygments_lexer": "ipython3",
   "version": "3.10.5"
  }
 },
 "nbformat": 4,
 "nbformat_minor": 4
}
